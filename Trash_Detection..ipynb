project_id = '3aa123b0-9209-47bf-8601-a92944751f28' 
cv_key = 'f349b78d4bb34b728978d57c591d504a'
cv_endpoint = 'https://awan0049t3.cognitiveservices.azure.com/' 

model_name = 'detect-produce'
print('Ready to predict using model {} in project {}'.format(model_name, project_id))
