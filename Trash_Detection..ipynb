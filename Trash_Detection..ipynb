project_id = 'f68834e4-a5ef-4d3a-8664-05272bc10b6c' 
cv_key = '3dc8797bec864b648b68e1b61aaad22c'
cv_endpoint = 'https://ai-project.cognitiveservices.azure.com/' 

model_name = 'detect-garbage'
print('Ready to predict using model {} in project {}'.format(model_name, project_id))
